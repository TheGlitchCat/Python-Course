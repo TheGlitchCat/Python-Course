{
 "cells": [
  {
   "cell_type": "markdown",
   "metadata": {
    "colab_type": "text",
    "id": "DJInrtF8-4dt"
   },
   "source": [
    "## Transfer Style\n",
    "\n",
    "<img src=\"https://shafeentejani.github.io/assets/images/fast_style_transfer/gatys_results.png\">\n",
    "\n",
    "\n",
    "\n",
    "- Example Based vs Collection Based\n",
    "- Collection Based:\n",
    "    - Paired\n",
    "    - Unpaired\n",
    "- Common Tool:\n",
    "    GAN ( Generative Adversarial Networks)"
   ]
  },
  {
   "cell_type": "markdown",
   "metadata": {
    "colab_type": "text",
    "id": "WsXhti_V-4du"
   },
   "source": [
    "<img src=\"https://cdn-images-1.medium.com/max/1000/1*fd3QUV45REqZ_f7tjYs31g.png\">\n",
    "\n",
    "## GANs\n",
    "Architecture:\n",
    "- Generative Network\n",
    "- Discriminatory Network\n",
    "- Zero-sum game (opposite losses)\n",
    "\n",
    "<img src=\"https://pathmind.com/images/wiki/GANs.png\">"
   ]
  },
  {
   "cell_type": "markdown",
   "metadata": {
    "colab_type": "text",
    "id": "OrojdDAD-4du"
   },
   "source": [
    "## Loss of GANs\n",
    "- Discriminatory Network: cross entropy when the network should reject\n",
    "$$ L_{D} ~ -\\log(D(x)) + -\\log(1 - D(G(z))) $$\n",
    "where $D(x) = \\text{Real Data} \\text{ and } D(z) = \\text{Fake Data}$\n",
    "\n",
    "- Generative Network: inverse of the discriminative (zero-sum game)\n",
    "$$ L_{G} ~ C + \\log(1 - D(G(z))) \\text{ or } - \\log(D(G(z))) $$"
   ]
  },
  {
   "cell_type": "markdown",
   "metadata": {
    "colab_type": "text",
    "id": "xb2U6ITy-4dv"
   },
   "source": [
    "# CycleGAN\n",
    "\n",
    "<img src=\"https://junyanz.github.io/CycleGAN/images/teaser.jpg\">"
   ]
  },
  {
   "cell_type": "markdown",
   "metadata": {
    "colab_type": "text",
    "id": "_FotFiR3-4dv"
   },
   "source": [
    "### [Repository Source](https://github.com/aitorzip/PyTorch-CycleGAN)"
   ]
  },
  {
   "cell_type": "markdown",
   "metadata": {
    "colab_type": "text",
    "id": "PQw4yntM-4dw"
   },
   "source": [
    "[datasets - fix for windows](https://people.eecs.berkeley.edu/~taesung_park/CycleGAN/datasets/)"
   ]
  },
  {
   "cell_type": "code",
   "execution_count": 1,
   "metadata": {
    "colab": {
     "base_uri": "https://localhost:8080/",
     "height": 122
    },
    "colab_type": "code",
    "id": "ZZKA4LNE_Dfi",
    "outputId": "cdee488b-2265-4b44-87e4-620baa2db7e6"
   },
   "outputs": [
    {
     "name": "stdout",
     "output_type": "stream",
     "text": [
      "Go to this URL in a browser: https://accounts.google.com/o/oauth2/auth?client_id=947318989803-6bn6qk8qdgf4n4g3pfee6491hc0brc4i.apps.googleusercontent.com&redirect_uri=urn%3aietf%3awg%3aoauth%3a2.0%3aoob&response_type=code&scope=email%20https%3a%2f%2fwww.googleapis.com%2fauth%2fdocs.test%20https%3a%2f%2fwww.googleapis.com%2fauth%2fdrive%20https%3a%2f%2fwww.googleapis.com%2fauth%2fdrive.photos.readonly%20https%3a%2f%2fwww.googleapis.com%2fauth%2fpeopleapi.readonly\n",
      "\n",
      "Enter your authorization code:\n",
      "··········\n",
      "Mounted at /gdrive\n"
     ]
    }
   ],
   "source": [
    "from google.colab import drive\n",
    "drive.mount('/gdrive')"
   ]
  },
  {
   "cell_type": "code",
   "execution_count": 2,
   "metadata": {
    "colab": {
     "base_uri": "https://localhost:8080/",
     "height": 34
    },
    "colab_type": "code",
    "id": "iRRhog5b_Eo_",
    "outputId": "2cab05ce-ce8c-4b8f-d16d-70b3c23006e3"
   },
   "outputs": [
    {
     "name": "stdout",
     "output_type": "stream",
     "text": [
      "/gdrive/My Drive\n"
     ]
    }
   ],
   "source": [
    "%cd '/gdrive/My Drive'"
   ]
  },
  {
   "cell_type": "code",
   "execution_count": 0,
   "metadata": {
    "colab": {},
    "colab_type": "code",
    "id": "0AEhqm6x_Esf"
   },
   "outputs": [],
   "source": [
    "# !git clone https://github.com/aitorzip/PyTorch-CycleGAN.git\n"
   ]
  },
  {
   "cell_type": "code",
   "execution_count": 0,
   "metadata": {
    "colab": {},
    "colab_type": "code",
    "id": "77dSYO8D_Po6"
   },
   "outputs": [],
   "source": [
    "# %cd '/gdrive/My Drive/PyTorch-CycleGAN'"
   ]
  },
  {
   "cell_type": "code",
   "execution_count": 0,
   "metadata": {
    "colab": {},
    "colab_type": "code",
    "id": "8XciA--u_PsJ"
   },
   "outputs": [],
   "source": [
    "\n",
    "#%%sh\n",
    "#sh ./download_dataset summer2winter_yosemite"
   ]
  },
  {
   "cell_type": "code",
   "execution_count": 0,
   "metadata": {
    "colab": {},
    "colab_type": "code",
    "id": "76gOSPqdBkyG"
   },
   "outputs": [],
   "source": [
    "# !mkdir datasets"
   ]
  },
  {
   "cell_type": "code",
   "execution_count": 0,
   "metadata": {
    "colab": {},
    "colab_type": "code",
    "id": "6xrKGR_n_TtS"
   },
   "outputs": [],
   "source": [
    "\n",
    "#!mv datasets/summer2winter_yosemite /gdrive/My\\ Drive/datasets/"
   ]
  },
  {
   "cell_type": "code",
   "execution_count": 0,
   "metadata": {
    "colab": {},
    "colab_type": "code",
    "id": "HOopT2XWBULQ"
   },
   "outputs": [],
   "source": [
    "#!ls /datasets/summer2winter_yosemite"
   ]
  },
  {
   "cell_type": "code",
   "execution_count": 0,
   "metadata": {
    "colab": {},
    "colab_type": "code",
    "id": "uy_maOnh_TwI"
   },
   "outputs": [],
   "source": [
    "#!ls /gdrive/My\\ Drive/datasets/"
   ]
  },
  {
   "cell_type": "code",
   "execution_count": 0,
   "metadata": {
    "colab": {},
    "colab_type": "code",
    "id": "wB_8jk-h_Tyl"
   },
   "outputs": [],
   "source": []
  },
  {
   "cell_type": "code",
   "execution_count": 0,
   "metadata": {
    "colab": {},
    "colab_type": "code",
    "id": "Cu9eAfri-4dw"
   },
   "outputs": [],
   "source": [
    "import torch.nn as nn \n",
    "import torch.nn.functional as F "
   ]
  },
  {
   "cell_type": "code",
   "execution_count": 0,
   "metadata": {
    "colab": {},
    "colab_type": "code",
    "id": "tlLFGhuy-4dz"
   },
   "outputs": [],
   "source": [
    "class ResidualBlock(nn.Module):\n",
    "    def __init__(self, in_features):\n",
    "        super(ResidualBlock, self).__init__()\n",
    "        \n",
    "        conv_block = [\n",
    "            nn.ReflectionPad2d(1), # Better Padding\n",
    "            nn.Conv2d(in_features, in_features, 3), #Kernel_size = 3\n",
    "            nn.InstanceNorm2d(in_features), # Contrast in images and regularization / BN for GANs\n",
    "            nn.ReLU(True),\n",
    "            nn.ReflectionPad2d(1), # preserves images distribution\n",
    "            nn.Conv2d(in_features, in_features, 3),\n",
    "            nn.InstanceNorm2d(in_features)\n",
    "        ]\n",
    "        \n",
    "        self.conv_block = nn.Sequential(*conv_block)\n",
    "        #self.conv_block = conv_block\n",
    "        \n",
    "    def forward(self, x):\n",
    "        return self.conv_block(x) + x # Increase Models Space    \n",
    "    "
   ]
  },
  {
   "cell_type": "code",
   "execution_count": 0,
   "metadata": {
    "colab": {},
    "colab_type": "code",
    "id": "T4MFWXbr-4d1"
   },
   "outputs": [],
   "source": [
    "class Generator(nn.Module):\n",
    "    def __init__(self, input_nc, output_nc,  n_residual_blocks = 9):\n",
    "        super(Generator, self).__init__()\n",
    "        \n",
    "        # Convolutional block\n",
    "        model = [\n",
    "            nn.ReflectionPad2d(3),\n",
    "            nn.Conv2d(input_nc, 64, 7), # I - 7(filter) + 6(2*padding) / 1 +1 = I\n",
    "            nn.InstanceNorm2d(64),\n",
    "            nn.ReLU(True)\n",
    "            \n",
    "        ]\n",
    "        \n",
    "        \n",
    "        in_features = 64\n",
    "        out_features = in_features * 2  # Amount of channels\n",
    "        \n",
    "        # Encoding\n",
    "        # Multiply by 2 number of channels\n",
    "        for _ in range(2):\n",
    "            model += [\n",
    "                nn.Conv2d(in_features, out_features, 3, stride=2,padding=1 ), # I / 2\n",
    "                nn.InstanceNorm2d(out_features), \n",
    "                nn.ReLU(True)\n",
    "            ]\n",
    "            \n",
    "            in_features  = out_features\n",
    "            out_features = in_features*2 \n",
    "        \n",
    "        # Residuals transforms\n",
    "        \n",
    "        for _ in range(n_residual_blocks):\n",
    "            model += [ResidualBlock(in_features)] # 9 Residual layers\n",
    "        \n",
    "        # Decoding\n",
    "        out_features = in_features // 2\n",
    "        \n",
    "        for _ in range(2):\n",
    "            model += [\n",
    "                nn.ConvTranspose2d(in_features, out_features, 3 , \n",
    "                                   stride=2, padding=1, output_padding=1), # 2I also Mat=gradient\n",
    "                nn.InstanceNorm2d(out_features),\n",
    "                nn.ReLU(inplace=True)\n",
    "            ]\n",
    "            \n",
    "            in_features = out_features\n",
    "            out_features = in_features // 2\n",
    "\n",
    "        # output\n",
    "        \n",
    "        model += [\n",
    "            nn.ReflectionPad2d(3),\n",
    "            nn.Conv2d(64, output_nc, 7), # I\n",
    "            nn.Tanh()\n",
    "        ]\n",
    "        \n",
    "        self.model = nn.Sequential(*model)\n",
    "        #self.model = model\n",
    "        \n",
    "    def forward(self, x):\n",
    "        return self.model(x)\n"
   ]
  },
  {
   "cell_type": "code",
   "execution_count": 0,
   "metadata": {
    "colab": {},
    "colab_type": "code",
    "id": "60_a0Gmg-4d3"
   },
   "outputs": [],
   "source": [
    "# PatchGAN\n",
    "\n",
    "class Discriminator(nn.Module):\n",
    "    def __init__(self, input_nc):\n",
    "        super(Discriminator, self).__init__()\n",
    "        \n",
    "        model = [\n",
    "            nn.Conv2d(input_nc, 64, 4, stride=2, padding=1), # I / 2\n",
    "            nn.LeakyReLU(0.2, inplace=True),\n",
    "        ]\n",
    "        \n",
    "        model += [\n",
    "            nn.Conv2d(64, 128, 4, stride=2, padding=1), # I / 2\n",
    "            nn.InstanceNorm2d(128),\n",
    "            nn.LeakyReLU(0.2, inplace=True),\n",
    "        ]\n",
    "        \n",
    "        model += [\n",
    "            nn.Conv2d(128, 256, 4, stride=2, padding=1), # I / 2\n",
    "            nn.InstanceNorm2d(256),\n",
    "            nn.LeakyReLU(0.2, inplace=True),\n",
    "        ]\n",
    "        \n",
    "        model += [\n",
    "            nn.Conv2d(256, 512, 4, padding=1), # I - 1\n",
    "            nn.InstanceNorm2d(512),\n",
    "            nn.LeakyReLU(0.2, inplace=True),\n",
    "        ]\n",
    "        \n",
    "        # Flatten\n",
    "        \n",
    "        model += [\n",
    "            nn.Conv2d(512, 1, 4, padding=1) # I - 1 \n",
    "        ]\n",
    "        \n",
    "        self.model = nn.Sequential(*model)\n",
    "        #self.model = model\n",
    "        \n",
    "    def forward(self, x):\n",
    "        x = self.model(x)\n",
    "        return F.avg_pool2d(x, x.size()[2:]).view(x.size()[0], -1)\n"
   ]
  },
  {
   "cell_type": "code",
   "execution_count": 0,
   "metadata": {
    "colab": {},
    "colab_type": "code",
    "id": "EeNRz5BE-4d6"
   },
   "outputs": [],
   "source": [
    "import glob\n",
    "import random\n",
    "import os \n",
    "import itertools\n",
    "from PIL import Image\n",
    "import torch\n",
    "from torch.utils.data import Dataset, DataLoader\n",
    "import torchvision.transforms as transforms\n",
    "from torch.autograd import Variable\n"
   ]
  },
  {
   "cell_type": "code",
   "execution_count": 0,
   "metadata": {
    "colab": {},
    "colab_type": "code",
    "id": "pgIHln3Q-4d8"
   },
   "outputs": [],
   "source": [
    "class ReplayBuffer():\n",
    "    def __init__(self, max_size=50):\n",
    "        assert (max_size > 0), 'Empty buffer or trying to create a black hole. Be careful.'\n",
    "        self.max_size = max_size\n",
    "        self.data = []\n",
    "\n",
    "    def push_and_pop(self, data):\n",
    "        to_return = []\n",
    "        for element in data.data:\n",
    "            element = torch.unsqueeze(element, 0)\n",
    "            if len(self.data) < self.max_size:\n",
    "                self.data.append(element)\n",
    "                to_return.append(element)\n",
    "            else:\n",
    "                if random.uniform(0,1) > 0.5:\n",
    "                    i = random.randint(0, self.max_size-1)\n",
    "                    to_return.append(self.data[i].clone())\n",
    "                    self.data[i] = element\n",
    "                else:\n",
    "                    to_return.append(element)\n",
    "        return Variable(torch.cat(to_return))"
   ]
  },
  {
   "cell_type": "code",
   "execution_count": 0,
   "metadata": {
    "colab": {},
    "colab_type": "code",
    "id": "hVKp6VEO-4d-"
   },
   "outputs": [],
   "source": [
    "class ImageDataset(Dataset):\n",
    "    def __init__(self, base_dir, transform=None, split='train'):\n",
    "        print(os.path.join(base_dir))\n",
    "        self.transform = transforms.Compose(transform)\n",
    "        self.files_A = sorted(glob.glob(os.path.join(base_dir, '{}/A/*.*'.format(split))))\n",
    "        self.files_B = sorted(glob.glob(os.path.join(base_dir, '{}/B/*.*'.format(split))))\n",
    "        print(self.files_A)\n",
    "        print(self.files_B)\n",
    "\n",
    "    def __len__(self):\n",
    "        return max(len(self.files_A), len(self.files_B))\n",
    "    \n",
    "    def __getitem__(self, idx):\n",
    "        image_A = self.transform(Image.open(self.files_A[idx]))\n",
    "        image_B = self.transform(Image.open(self.files_B[random.randint(0, len(self.files_B) - 1)]))\n",
    "        return {'A': image_A, 'B':image_B}\n",
    "    "
   ]
  },
  {
   "cell_type": "code",
   "execution_count": 0,
   "metadata": {
    "colab": {},
    "colab_type": "code",
    "id": "uCyFPNT7-4eA"
   },
   "outputs": [],
   "source": [
    "epoch = 0      # Initial epoch\n",
    "n_epochs = 200 # final epoch\n",
    "batch_size = 2\n",
    "lr = 0.0002\n",
    "\n",
    "size = 256     # Img Size\n",
    "input_nc = 3   # input channels\n",
    "output_nc = 3  # Output channels\n",
    "decay_epoch = 100\n",
    "\n",
    "cuda = True # torch.cuda.is_available()\n",
    "n_cpu = 8   # Pararel workers / CPU Threats\n",
    "\n",
    "base_dir = '/gdrive/My Drive/datasets/' # Path\n",
    "\n",
    "device = torch.device('cuda' if cuda else 'cpu')\n"
   ]
  },
  {
   "cell_type": "code",
   "execution_count": 0,
   "metadata": {
    "colab": {},
    "colab_type": "code",
    "id": "ECc8Ys-E-4eC"
   },
   "outputs": [],
   "source": [
    "\n",
    "# Inital params of NN\n",
    "def weights_init_normal(m):\n",
    "    if isinstance(m, nn.Conv2d):\n",
    "        torch.nn.init.normal(m.weight.data, 0.0, 0.02)\n",
    "    elif isinstance(m, nn.BatchNorm2d):\n",
    "        torch.nn.init.normal(m.weight.data, 1.0, 0.02)\n",
    "        torch.nn.init.constant(m.bias, 0.0)"
   ]
  },
  {
   "cell_type": "code",
   "execution_count": 19,
   "metadata": {
    "colab": {
     "base_uri": "https://localhost:8080/",
     "height": 68
    },
    "colab_type": "code",
    "id": "8wtsqoie-4eE",
    "outputId": "8c00c4d0-2b41-482c-83ee-afd57750cf66"
   },
   "outputs": [
    {
     "name": "stderr",
     "output_type": "stream",
     "text": [
      "/usr/local/lib/python3.6/dist-packages/ipykernel_launcher.py:5: UserWarning: nn.init.normal is now deprecated in favor of nn.init.normal_.\n",
      "  \"\"\"\n"
     ]
    },
    {
     "name": "stdout",
     "output_type": "stream",
     "text": [
      "True\n"
     ]
    }
   ],
   "source": [
    "netG_A2B = Generator(input_nc, output_nc)\n",
    "netG_B2A = Generator(input_nc, output_nc) \n",
    "netD_A = Discriminator(input_nc)\n",
    "netD_B = Discriminator(input_nc)\n",
    "\n",
    "\n",
    "netG_A2B.apply(weights_init_normal)\n",
    "netG_B2A.apply(weights_init_normal)\n",
    "netD_A.apply(weights_init_normal)\n",
    "netD_B.apply(weights_init_normal)\n",
    "\n",
    "print(cuda)\n",
    "\n",
    "# To divice\n",
    "if cuda:    \n",
    "    netG_A2B.to(device)\n",
    "    netG_B2A.to(device)\n",
    "    netD_A.to(device)\n",
    "    netD_B.to(device)\n",
    "\n",
    "\n",
    "criterion_GAN  = torch.nn.MSELoss()\n",
    "criterion_cycle = torch.nn.L1Loss()\n",
    "criterion_identity = torch.nn.L1Loss()\n",
    "\n",
    "\n",
    "optimizer_G = torch.optim.Adam(itertools.chain(netG_A2B.parameters(), netG_B2A.parameters()), lr=lr,\n",
    "                             betas=(0.5, 0.999))\n",
    "\n",
    "optimizer_D_A = torch.optim.Adam(netD_A.parameters(), lr=lr, betas=(0.5,0.999))\n",
    "optimizer_D_B = torch.optim.Adam(netD_B.parameters(), lr=lr, betas=(0.5,0.999))\n",
    "\n",
    "\n",
    "# Schedulers (update the learning rate dynamically during training)\n",
    "class LambdaLR():\n",
    "    def __init__(self, n_epoch, offset, decay_start_epoch):\n",
    "        assert((n_epochs-decay_start_epoch) > 0 )\n",
    "        self.n_epochs = n_epochs\n",
    "        self.offset = offset\n",
    "        self.decay_start_epoch = decay_start_epoch\n",
    "    \n",
    "    def step(self, epoch):\n",
    "        return 1 - max(0, epoch + self.offset - self.decay_start_epoch ) / (self.n_epochs - self.decay_start_epoch)\n",
    "        \n",
    "\n",
    "\n",
    "lr_scheduler_G = torch.optim.lr_scheduler.LambdaLR(optimizer_G, lr_lambda=LambdaLR(n_epochs, epoch, decay_epoch).step)\n",
    "lr_scheduler_D_A = torch.optim.lr_scheduler.LambdaLR(optimizer_D_A, lr_lambda=LambdaLR(n_epochs, epoch, decay_epoch).step)\n",
    "lr_scheduler_D_B = torch.optim.lr_scheduler.LambdaLR(optimizer_D_B, lr_lambda=LambdaLR(n_epochs, epoch, decay_epoch).step)\n"
   ]
  },
  {
   "cell_type": "code",
   "execution_count": null,
   "metadata": {
    "colab": {
     "base_uri": "https://localhost:8080/",
     "height": 88
    },
    "colab_type": "code",
    "id": "zAlrGNEg-4eH",
    "outputId": "79f53d3d-1273-4b0f-efcf-6dc7fdf2deb9"
   },
   "outputs": [],
   "source": [
    "# Inputs and  Targets\n",
    "\n",
    "Tensor = torch.cuda.FloatTensor if cuda else torch.Tensor\n",
    "#Tensor = torch.Tensor\n",
    "target_real = Tensor(batch_size).fill_(1.0)\n",
    "target_fake = Tensor(batch_size).fill_(0.0)\n",
    "\n",
    "\n",
    "fake_A_buffer = ReplayBuffer()\n",
    "fake_B_buffer = ReplayBuffer()\n",
    "\n",
    "# Dataloader\n",
    "\n",
    "# Data Augmentation\n",
    "transform = [transforms.Resize(int(size*1.12), Image.BICUBIC),\n",
    "             transforms.RandomCrop(size),\n",
    "             transforms.RandomHorizontalFlip(),\n",
    "             transforms.ToTensor(),\n",
    "             transforms.Normalize((0.5,0.5,0.5),(0.5,0.5,0.5))\n",
    "            ]\n",
    " \n",
    "dataloader =  DataLoader(ImageDataset(base_dir, transform=transform), \n",
    "                        batch_size=batch_size, shuffle=True, \n",
    "                        num_workers=n_cpu, drop_last=True)\n",
    "\n",
    "\n",
    "def Gen_GAN_loss(G, D, real, loss, target_real):\n",
    "    fake = G(real) # Generative Network\n",
    "    pred_fake = D(fake) # Discriminative network\n",
    "    L = loss(pred_fake, target_real) # Calculate loss\n",
    "    return L, fake # loss, fake\n",
    "    \n",
    "def cycle_loss(G1, G2, real, loss):\n",
    "    recovered = G2(G1(real)) # cycle \n",
    "    L = loss(recovered, real)\n",
    "    return L\n",
    "\n",
    "def identity_loss(G, real, loss):\n",
    "    same = G(real)\n",
    "    L = loss(same, real)\n",
    "    return L\n",
    "\n",
    "def Disc_GAN_loss(D2, fake2, real2, fake_2_buffer, loss, target_real, target_fake):\n",
    "    pred_real = D2(real2) # Real prediction\n",
    "    loss_D2_real = loss(pred_real, target_real) # loss\n",
    "    fake2 = fake_2_buffer.push_and_pop(fake2) # \n",
    "    pred_fake = D2(fake2.detach())\n",
    "    loss_D2_fake = loss(pred_fake, target_fake)\n",
    "    loss_D2 = (loss_D2_real + loss_D2_fake) * 0.5\n",
    "    \n",
    "    return loss_D2"
   ]
  },
  {
   "cell_type": "code",
   "execution_count": 21,
   "metadata": {
    "colab": {
     "base_uri": "https://localhost:8080/",
     "height": 408
    },
    "colab_type": "code",
    "id": "oLN3_ki8-4eK",
    "outputId": "9bb69d86-ac83-47a2-e367-427035cd8d38"
   },
   "outputs": [
    {
     "name": "stdout",
     "output_type": "stream",
     "text": [
      "Collecting livelossplot\n",
      "  Downloading https://files.pythonhosted.org/packages/7c/e4/a7884b57113dfe84d3565418820feae7a20964438beb1088b2b08820ad94/livelossplot-0.5.0-py3-none-any.whl\n",
      "Requirement already satisfied: ipython in /usr/local/lib/python3.6/dist-packages (from livelossplot) (5.5.0)\n",
      "Requirement already satisfied: matplotlib; python_version >= \"3.6\" in /usr/local/lib/python3.6/dist-packages (from livelossplot) (3.2.1)\n",
      "Requirement already satisfied: decorator in /usr/local/lib/python3.6/dist-packages (from ipython->livelossplot) (4.4.2)\n",
      "Requirement already satisfied: traitlets>=4.2 in /usr/local/lib/python3.6/dist-packages (from ipython->livelossplot) (4.3.3)\n",
      "Requirement already satisfied: pexpect; sys_platform != \"win32\" in /usr/local/lib/python3.6/dist-packages (from ipython->livelossplot) (4.8.0)\n",
      "Requirement already satisfied: pygments in /usr/local/lib/python3.6/dist-packages (from ipython->livelossplot) (2.1.3)\n",
      "Requirement already satisfied: setuptools>=18.5 in /usr/local/lib/python3.6/dist-packages (from ipython->livelossplot) (46.1.3)\n",
      "Requirement already satisfied: prompt-toolkit<2.0.0,>=1.0.4 in /usr/local/lib/python3.6/dist-packages (from ipython->livelossplot) (1.0.18)\n",
      "Requirement already satisfied: simplegeneric>0.8 in /usr/local/lib/python3.6/dist-packages (from ipython->livelossplot) (0.8.1)\n",
      "Requirement already satisfied: pickleshare in /usr/local/lib/python3.6/dist-packages (from ipython->livelossplot) (0.7.5)\n",
      "Requirement already satisfied: python-dateutil>=2.1 in /usr/local/lib/python3.6/dist-packages (from matplotlib; python_version >= \"3.6\"->livelossplot) (2.8.1)\n",
      "Requirement already satisfied: cycler>=0.10 in /usr/local/lib/python3.6/dist-packages (from matplotlib; python_version >= \"3.6\"->livelossplot) (0.10.0)\n",
      "Requirement already satisfied: kiwisolver>=1.0.1 in /usr/local/lib/python3.6/dist-packages (from matplotlib; python_version >= \"3.6\"->livelossplot) (1.2.0)\n",
      "Requirement already satisfied: pyparsing!=2.0.4,!=2.1.2,!=2.1.6,>=2.0.1 in /usr/local/lib/python3.6/dist-packages (from matplotlib; python_version >= \"3.6\"->livelossplot) (2.4.7)\n",
      "Requirement already satisfied: numpy>=1.11 in /usr/local/lib/python3.6/dist-packages (from matplotlib; python_version >= \"3.6\"->livelossplot) (1.18.4)\n",
      "Requirement already satisfied: ipython-genutils in /usr/local/lib/python3.6/dist-packages (from traitlets>=4.2->ipython->livelossplot) (0.2.0)\n",
      "Requirement already satisfied: six in /usr/local/lib/python3.6/dist-packages (from traitlets>=4.2->ipython->livelossplot) (1.12.0)\n",
      "Requirement already satisfied: ptyprocess>=0.5 in /usr/local/lib/python3.6/dist-packages (from pexpect; sys_platform != \"win32\"->ipython->livelossplot) (0.6.0)\n",
      "Requirement already satisfied: wcwidth in /usr/local/lib/python3.6/dist-packages (from prompt-toolkit<2.0.0,>=1.0.4->ipython->livelossplot) (0.1.9)\n",
      "Installing collected packages: livelossplot\n",
      "Successfully installed livelossplot-0.5.0\n"
     ]
    }
   ],
   "source": [
    "!pip install livelossplot "
   ]
  },
  {
   "cell_type": "code",
   "execution_count": 27,
   "metadata": {
    "colab": {
     "base_uri": "https://localhost:8080/",
     "height": 129
    },
    "colab_type": "code",
    "id": "y_C5NobP-4eM",
    "outputId": "41b072c5-0de8-45f7-db4f-6586e3ecbc7f"
   },
   "outputs": [
    {
     "ename": "SyntaxError",
     "evalue": "ignored",
     "output_type": "error",
     "traceback": [
      "\u001b[0;36m  File \u001b[0;32m\"<ipython-input-27-761ce712147c>\"\u001b[0;36m, line \u001b[0;32m37\u001b[0m\n\u001b[0;31m    try;\u001b[0m\n\u001b[0m       ^\u001b[0m\n\u001b[0;31mSyntaxError\u001b[0m\u001b[0;31m:\u001b[0m invalid syntax\n"
     ]
    }
   ],
   "source": [
    "import time\n",
    "import datetime\n",
    "import sys\n",
    "class Logger():\n",
    "    def __init__(self, n_epochs, batches_epoch, epoch=1):\n",
    "        self.n_epochs = n_epochs\n",
    "        self.batches_epoch = batches_epoch\n",
    "        self.epoch = epoch\n",
    "        self.batch = 1\n",
    "        self.prev_time = time.time()\n",
    "        self.mean_period = 0\n",
    "        self.losses = {}\n",
    "        self.loss_windows = {}\n",
    "        self.image_windows = {}\n",
    "\n",
    "\n",
    "    def log(self, losses=None, images=None):\n",
    "        self.mean_period += (time.time() - self.prev_time)\n",
    "        self.prev_time = time.time()\n",
    "\n",
    "        sys.stdout.write('\\rEpoch %03d/%03d [%04d/%04d] -- ' % (self.epoch, self.n_epochs, self.batch, self.batches_epoch))\n",
    "\n",
    "        for i, loss_name in enumerate(losses.keys()):\n",
    "            if loss_name not in self.losses:\n",
    "                self.losses[loss_name] = losses[loss_name].data.item()\n",
    "            else:\n",
    "                self.losses[loss_name] += losses[loss_name].data.item()\n",
    "            \n",
    "            if (i+1) == len(losses.keys()):\n",
    "                sys.stdout.write('%s: %.4f -- ' % (loss_name, self.losses[loss_name]/self.batch))\n",
    "            else:\n",
    "                sys.stdout.write('%s: %.4f | ' % (loss_name, self.losses[loss_name]/self.batch))\n",
    "\n",
    "        batches_done = self.batches_epoch*(self.epoch - 1) + self.batch\n",
    "        batches_left = self.batches_epoch*(self.n_epochs - self.epoch) + self.batches_epoch - self.batch \n",
    "        \n",
    "        try:\n",
    "            sys.stdout.write('ETA: %s' % (datetime.timedelta(seconds=batches_left*self.mean_period/batches_done)))\n",
    "        except:\n",
    "            pass\n",
    "\n",
    "        # End of epoch\n",
    "        if (self.batch % self.batches_epoch) == 0:\n",
    "            # Plot losses\n",
    "            for loss_name, loss in self.losses.items():\n",
    "                # Reset losses for next epoch\n",
    "                self.losses[loss_name] = 0.0\n",
    "\n",
    "            self.epoch += 1\n",
    "            self.batch = 1\n",
    "            sys.stdout.write('\\n')\n",
    "        else:\n",
    "            self.batch += 1"
   ]
  },
  {
   "cell_type": "code",
   "execution_count": 0,
   "metadata": {
    "colab": {},
    "colab_type": "code",
    "id": "L_zlnVQE-4eN"
   },
   "outputs": [],
   "source": [
    "from livelossplot import PlotLosses\n",
    "logger = Logger(n_epochs, len(dataloader), epoch=epoch)\n",
    "liveloss= PlotLosses()"
   ]
  },
  {
   "cell_type": "code",
   "execution_count": 0,
   "metadata": {
    "colab": {
     "base_uri": "https://localhost:8080/",
     "height": 1000
    },
    "colab_type": "code",
    "id": "O_r0iIcD-4eQ",
    "outputId": "ab4c8028-1963-4da0-f61c-37662278f821"
   },
   "outputs": [
    {
     "data": {
      "image/png": "[encoded data removed]",
      "text/plain": [
       "<Figure size 864x1152 with 5 Axes>"
      ]
     },
     "metadata": {
      "needs_background": "light",
      "tags": []
     },
     "output_type": "display_data"
    },
    {
     "name": "stdout",
     "output_type": "stream",
     "text": [
      "loss_D\n",
      "\tloss_D           \t (min:    0.153, max:    0.887, cur:    0.401)\n",
      "loss_G\n",
      "\tloss_G           \t (min:    2.472, max:    8.091, cur:    4.685)\n",
      "loss_G_GAN\n",
      "\tloss_G_GAN       \t (min:    0.152, max:    1.798, cur:    1.535)\n",
      "loss_G_cyle\n",
      "\tloss_G_cyle      \t (min:    0.142, max:    0.525, cur:    0.223)\n",
      "loss_G_identity\n",
      "\tloss_G_identity  \t (min:    0.137, max:    0.508, cur:    0.185)\n",
      "64 / 200\n",
      "Epoch 064/200 [0154/0615] -- loss_G: 3.6532 | loss_G_identity: 0.1700 | loss_G_GAN: 0.9770 | loss_G_cyle: 0.1826 | loss_D: 0.3099 -- ETA: 20:45:55.861063"
     ]
    }
   ],
   "source": [
    "for epoch in range(epoch, n_epochs):\n",
    "    print(f'{epoch} / {n_epochs}')\n",
    "    for i, batch in enumerate(dataloader):\n",
    "        #print(i, type(i))\n",
    "        #print(batch, type(batch))\n",
    "        real_A = batch['A'].to(device)\n",
    "        real_B = batch['B'].to(device)\n",
    "        \n",
    "        #real_A = batch['A']\n",
    "        #real_B = batch['B']\n",
    "        \n",
    "        # Generative\n",
    "        \n",
    "        optimizer_G.zero_grad()\n",
    "        loss_GAN_A2B, fake_B = Gen_GAN_loss(netG_A2B, netD_B, real_A, criterion_GAN, target_real)\n",
    "        loss_GAN_B2A, fake_A = Gen_GAN_loss(netG_B2A, netD_A, real_B, criterion_GAN, target_real)\n",
    "        \n",
    "        loss_cycle_ABA = cycle_loss(netG_A2B,netG_B2A, real_A, criterion_cycle)\n",
    "        loss_cycle_BAB = cycle_loss(netG_B2A,netG_A2B, real_B, criterion_cycle)\n",
    "        \n",
    "        loss_identity_A = identity_loss(netG_B2A, real_A, criterion_identity)\n",
    "        loss_identity_B = identity_loss(netG_A2B, real_B, criterion_identity)\n",
    "        \n",
    "        loss_G = (loss_GAN_A2B + loss_GAN_B2A) + 10.0*(loss_cycle_ABA + loss_cycle_BAB) + 5.0 * (loss_identity_A + loss_identity_B) \n",
    "        loss_G.backward()\n",
    "        \n",
    "        optimizer_G.step()\n",
    "        \n",
    "        # Discriminatory\n",
    "        optimizer_D_A.zero_grad()\n",
    "        loss_D_A = Disc_GAN_loss(netD_A, fake_A, real_A, fake_A_buffer, criterion_GAN, target_real, target_fake) \n",
    "        loss_D_A.backward()\n",
    "        \n",
    "        optimizer_D_A.step()\n",
    "        \n",
    "        \n",
    "        optimizer_D_B.zero_grad()\n",
    "        loss_D_B = Disc_GAN_loss(netD_B, fake_B, real_B, fake_B_buffer, criterion_GAN, target_real, target_fake) \n",
    "        loss_D_B.backward()\n",
    "        \n",
    "        optimizer_D_B.step()\n",
    "        \n",
    "        log_values = {'loss_G': loss_G,\n",
    "                      'loss_G_identity': (loss_identity_A + loss_identity_B),\n",
    "                      'loss_G_GAN': (loss_GAN_A2B + loss_GAN_B2A),\n",
    "                      'loss_G_cyle': loss_cycle_ABA + loss_cycle_BAB,\n",
    "                      'loss_D': loss_D_A + loss_D_B\n",
    "                 }\n",
    "        logger.log(log_values, images={'real_A': real_A,'real_B': real_B, 'fake_A': fake_A,'fake_B': fake_B  })\n",
    "        \n",
    "    liveloss.update(log_values)\n",
    "    liveloss.draw()\n",
    "    \n",
    "    lr_scheduler_G.step()\n",
    "    lr_scheduler_D_A.step()\n",
    "    lr_scheduler_D_B.step()\n",
    "        \n",
    "        \n",
    "        \n",
    "        "
   ]
  },
  {
   "cell_type": "code",
   "execution_count": 0,
   "metadata": {
    "colab": {},
    "colab_type": "code",
    "id": "19VqA8d8-4eS"
   },
   "outputs": [],
   "source": [
    "# https://pytorch.org/tutorials/beginner/saving_loading_models.html\n",
    "\n",
    "PATH = '/gdrive/My Drive/NA.pth'\n",
    "PATH = '/gdrive/My Drive/NB.pth'\n",
    "PATH = '/gdrive/My Drive/ND_A.pth'\n",
    "PATH = '/gdrive/My Drive/ND_B.pth'\n",
    "torch.save(netG_A2B, PATH)\n",
    "torch.save(netG_B2A, PATH)\n",
    "torch.save(netD_A, PATH)\n",
    "torch.save(netD_B, PATH)"
   ]
  },
  {
   "cell_type": "code",
   "execution_count": 0,
   "metadata": {
    "colab": {},
    "colab_type": "code",
    "id": "ueAK5aHYioZT"
   },
   "outputs": [],
   "source": [
    "\n",
    "#netG_A2B = Generator(input_nc, output_nc)\n",
    "#netG_B2A = Generator(input_nc, output_nc)\n",
    "#netD_A = Discriminator(input_nc)\n",
    "#netD_B = Discriminator(input_nc)\n",
    "\n",
    "\n",
    "#model = Generator(*args, **kwargs)\n",
    "#model.load_state_dict(torch.load(PATH))\n",
    "#model.eval()"
   ]
  }
 ],
 "metadata": {
  "accelerator": "GPU",
  "colab": {
   "collapsed_sections": [],
   "name": "01 - CycleGAN.ipynb",
   "provenance": []
  },
  "kernelspec": {
   "display_name": "Python 3",
   "language": "python",
   "name": "python3"
  },
  "language_info": {
   "codemirror_mode": {
    "name": "ipython",
    "version": 3
   },
   "file_extension": ".py",
   "mimetype": "text/x-python",
   "name": "python",
   "nbconvert_exporter": "python",
   "pygments_lexer": "ipython3",
   "version": "3.7.4"
  }
 },
 "nbformat": 4,
 "nbformat_minor": 1
}
