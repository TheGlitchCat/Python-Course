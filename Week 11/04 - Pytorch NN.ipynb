{
 "cells": [
  {
   "cell_type": "code",
   "execution_count": 1,
   "metadata": {},
   "outputs": [],
   "source": [
    "import torch\n",
    "import torch.nn as nn\n",
    "import torch.optim as optim\n",
    "\n",
    "from torchvision import utils\n",
    "from torchvision import datasets\n",
    "from torchvision import transforms\n",
    "\n",
    "from PIL import Image\n",
    "import urllib.request as request\n",
    "from matplotlib import pyplot as plt\n",
    "#torch.set_printoptions(edgeitems=2) #default 3\n",
    "#torch.manual_seed(123)"
   ]
  },
  {
   "cell_type": "markdown",
   "metadata": {},
   "source": [
    "### Create Model"
   ]
  },
  {
   "cell_type": "code",
   "execution_count": 2,
   "metadata": {},
   "outputs": [
    {
     "name": "stdout",
     "output_type": "stream",
     "text": [
      "Downloading https://www.cs.toronto.edu/~kriz/cifar-10-python.tar.gz to data/cifar-10-python.tar.gz\n"
     ]
    },
    {
     "data": {
      "application/vnd.jupyter.widget-view+json": {
       "model_id": "ba48fadc27ba48c78b63f3feacd3ff95",
       "version_major": 2,
       "version_minor": 0
      },
      "text/plain": [
       "HBox(children=(IntProgress(value=1, bar_style='info', max=1), HTML(value='')))"
      ]
     },
     "metadata": {},
     "output_type": "display_data"
    },
    {
     "name": "stdout",
     "output_type": "stream",
     "text": [
      "Extracting data/cifar-10-python.tar.gz to data/\n",
      "Files already downloaded and verified\n"
     ]
    }
   ],
   "source": [
    "data_path = 'data/'\n",
    "full_data_set = datasets.CIFAR10(data_path, train=True, download=True,\n",
    "                          transform=transforms.Compose([\n",
    "                              transforms.ToTensor(),\n",
    "                              transforms.Normalize((0.4915, 0.4823, 0.4468),\n",
    "                                                   (0.2470, 0.2435, 0.2616))\n",
    "                          ]))\n",
    "\n",
    "full_validation_set = datasets.CIFAR10(data_path, train=False, download=True,\n",
    "                          transform=transforms.Compose([\n",
    "                              transforms.ToTensor(),\n",
    "                              transforms.Normalize((0.4915, 0.4823, 0.4468),\n",
    "                                                   (0.2470, 0.2435, 0.2616))\n",
    "                          ]))\n"
   ]
  },
  {
   "cell_type": "code",
   "execution_count": 3,
   "metadata": {},
   "outputs": [],
   "source": [
    "size = 4\n",
    "dataloader = torch.utils.data.DataLoader(full_data_set, batch_size=size, shuffle=True, num_workers=2)"
   ]
  },
  {
   "cell_type": "code",
   "execution_count": 4,
   "metadata": {},
   "outputs": [
    {
     "name": "stderr",
     "output_type": "stream",
     "text": [
      "Clipping input data to the valid range for imshow with RGB data ([0..1] for floats or [0..255] for integers).\n"
     ]
    },
    {
     "name": "stdout",
     "output_type": "stream",
     "text": [
      "frog\n",
      "cat\n",
      "frog\n",
      "dog\n"
     ]
    },
    {
     "data": {
      "image/png": "[encoded data removed]",
      "text/plain": [
       "<Figure size 432x288 with 1 Axes>"
      ]
     },
     "metadata": {
      "needs_background": "light"
     },
     "output_type": "display_data"
    }
   ],
   "source": [
    "data_iterator = iter(dataloader)\n",
    "imgs, labels = data_iterator.next()\n",
    "\n",
    "classes = ['plane','car','bird','cat','deer','dog','frog','horse','ship','truck']\n",
    "\n",
    "plt.imshow(utils.make_grid(imgs).permute(1, 2, 0))\n",
    "\n",
    "for i in range(size):\n",
    "  print(classes[labels[i]])"
   ]
  },
  {
   "cell_type": "code",
   "execution_count": 5,
   "metadata": {},
   "outputs": [],
   "source": [
    "#classes = ['plane','car','bird','cat','deer','dog','frog','horse','ship','truck']\n",
    "class_names = ['car', 'cat']\n",
    "\n",
    "label_map = {1: 0, 3: 1}\n",
    "\n",
    "data_set = [(img, label_map[label]) for img, label in full_data_set if label in [1, 3]]\n",
    "validation_set = [(img, label_map[label]) for img, label in full_validation_set if label in [1, 3]]"
   ]
  },
  {
   "cell_type": "code",
   "execution_count": 6,
   "metadata": {},
   "outputs": [
    {
     "data": {
      "text/plain": [
       "torch.Size([3, 32, 32])"
      ]
     },
     "execution_count": 6,
     "metadata": {},
     "output_type": "execute_result"
    }
   ],
   "source": [
    "img, label = data_set[20]\n",
    "img.shape"
   ]
  },
  {
   "cell_type": "code",
   "execution_count": 7,
   "metadata": {},
   "outputs": [],
   "source": [
    "model = nn.Sequential(\n",
    "            nn.Linear(3 * 32 * 32, 512),\n",
    "            nn.Tanh(),\n",
    "            nn.Linear(512, 2))"
   ]
  },
  {
   "cell_type": "code",
   "execution_count": 8,
   "metadata": {},
   "outputs": [],
   "source": [
    "def sigmoid(x):\n",
    "  return 1 / (1 + torch.exp(-x))"
   ]
  },
  {
   "cell_type": "code",
   "execution_count": 9,
   "metadata": {},
   "outputs": [
    {
     "data": {
      "text/plain": [
       "tensor([0.7311, 0.8808, 0.9526])"
      ]
     },
     "execution_count": 9,
     "metadata": {},
     "output_type": "execute_result"
    }
   ],
   "source": [
    "x = torch.tensor([1.0, 2.0, 3.0])\n",
    "\n",
    "sigmoid(x)"
   ]
  },
  {
   "cell_type": "code",
   "execution_count": 10,
   "metadata": {},
   "outputs": [
    {
     "data": {
      "text/plain": [
       "tensor(2.5644)"
      ]
     },
     "execution_count": 10,
     "metadata": {},
     "output_type": "execute_result"
    }
   ],
   "source": [
    "sigmoid(x).sum()"
   ]
  },
  {
   "cell_type": "code",
   "execution_count": 11,
   "metadata": {},
   "outputs": [],
   "source": [
    "def softmax(x):\n",
    "    return torch.exp(x) / torch.exp(x).sum()"
   ]
  },
  {
   "cell_type": "code",
   "execution_count": 12,
   "metadata": {},
   "outputs": [
    {
     "data": {
      "text/plain": [
       "tensor([0.0900, 0.2447, 0.6652])"
      ]
     },
     "execution_count": 12,
     "metadata": {},
     "output_type": "execute_result"
    }
   ],
   "source": [
    "softmax(x)"
   ]
  },
  {
   "cell_type": "code",
   "execution_count": 13,
   "metadata": {},
   "outputs": [
    {
     "data": {
      "text/plain": [
       "tensor(1.)"
      ]
     },
     "execution_count": 13,
     "metadata": {},
     "output_type": "execute_result"
    }
   ],
   "source": [
    "softmax(x).sum()"
   ]
  },
  {
   "cell_type": "code",
   "execution_count": 14,
   "metadata": {},
   "outputs": [
    {
     "data": {
      "text/plain": [
       "tensor([[0.0900, 0.2447, 0.6652],\n",
       "        [0.0900, 0.2447, 0.6652]])"
      ]
     },
     "execution_count": 14,
     "metadata": {},
     "output_type": "execute_result"
    }
   ],
   "source": [
    "softmax = nn.Softmax(dim=1)\n",
    "\n",
    "x = torch.tensor([[1.0, 2.0, 3.0],\n",
    "                  [1.0, 2.0, 3.0]])\n",
    "\n",
    "softmax(x)"
   ]
  },
  {
   "cell_type": "code",
   "execution_count": 15,
   "metadata": {},
   "outputs": [],
   "source": [
    "model = nn.Sequential(\n",
    "            nn.Linear(3072, 512),\n",
    "            nn.Tanh(),\n",
    "            nn.Linear(512, 2),\n",
    "            nn.Softmax(dim=1))"
   ]
  },
  {
   "cell_type": "code",
   "execution_count": 16,
   "metadata": {},
   "outputs": [
    {
     "name": "stderr",
     "output_type": "stream",
     "text": [
      "Clipping input data to the valid range for imshow with RGB data ([0..1] for floats or [0..255] for integers).\n"
     ]
    },
    {
     "data": {
      "text/plain": [
       "'car'"
      ]
     },
     "execution_count": 16,
     "metadata": {},
     "output_type": "execute_result"
    },
    {
     "data": {
      "image/png": "[encoded data removed]",
      "text/plain": [
       "<Figure size 432x288 with 1 Axes>"
      ]
     },
     "metadata": {
      "needs_background": "light"
     },
     "output_type": "display_data"
    }
   ],
   "source": [
    "img, label = data_set[20]\n",
    "\n",
    "plt.imshow(img.permute(1, 2, 0))\n",
    "class_names[label]"
   ]
  },
  {
   "cell_type": "code",
   "execution_count": 17,
   "metadata": {},
   "outputs": [
    {
     "data": {
      "text/plain": [
       "tensor([[0.4659, 0.5341]], grad_fn=<SoftmaxBackward>)"
      ]
     },
     "execution_count": 17,
     "metadata": {},
     "output_type": "execute_result"
    }
   ],
   "source": [
    "out = model(img.view(-1).unsqueeze(0))\n",
    "out"
   ]
  },
  {
   "cell_type": "code",
   "execution_count": 18,
   "metadata": {},
   "outputs": [
    {
     "name": "stdout",
     "output_type": "stream",
     "text": [
      "-> car  model: cat\n"
     ]
    }
   ],
   "source": [
    "_, index = torch.max(out, dim=1)\n",
    "\n",
    "print('->',class_names[label],' model:',class_names[index])"
   ]
  },
  {
   "cell_type": "code",
   "execution_count": 19,
   "metadata": {},
   "outputs": [
    {
     "data": {
      "text/plain": [
       "tensor([[0., 1.]])"
      ]
     },
     "execution_count": 19,
     "metadata": {},
     "output_type": "execute_result"
    }
   ],
   "source": [
    "softmax = nn.Softmax(dim=1)\n",
    "\n",
    "log_softmax = nn.LogSoftmax(dim=1)\n",
    "\n",
    "x = torch.tensor([[0.0, 110.0]])\n",
    "\n",
    "softmax(x)"
   ]
  },
  {
   "cell_type": "code",
   "execution_count": 20,
   "metadata": {},
   "outputs": [
    {
     "data": {
      "text/plain": [
       "tensor([[-inf, 0.]])"
      ]
     },
     "execution_count": 20,
     "metadata": {},
     "output_type": "execute_result"
    }
   ],
   "source": [
    "torch.log(softmax(x))"
   ]
  },
  {
   "cell_type": "code",
   "execution_count": 21,
   "metadata": {},
   "outputs": [
    {
     "data": {
      "text/plain": [
       "tensor([[-110.,    0.]])"
      ]
     },
     "execution_count": 21,
     "metadata": {},
     "output_type": "execute_result"
    }
   ],
   "source": [
    "log_softmax(x)"
   ]
  },
  {
   "cell_type": "code",
   "execution_count": 22,
   "metadata": {},
   "outputs": [
    {
     "data": {
      "text/plain": [
       "tensor([[0., 1.]])"
      ]
     },
     "execution_count": 22,
     "metadata": {},
     "output_type": "execute_result"
    }
   ],
   "source": [
    "torch.exp(log_softmax(x))"
   ]
  },
  {
   "cell_type": "markdown",
   "metadata": {},
   "source": [
    "### Use our model"
   ]
  },
  {
   "cell_type": "code",
   "execution_count": 23,
   "metadata": {},
   "outputs": [],
   "source": [
    "model = nn.Sequential(\n",
    "            nn.Linear(3072, 512),\n",
    "            nn.Tanh(),\n",
    "            nn.Linear(512, 2),\n",
    "            nn.LogSoftmax(dim=1))\n",
    "\n",
    "loss = nn.NLLLoss()"
   ]
  },
  {
   "cell_type": "code",
   "execution_count": 24,
   "metadata": {},
   "outputs": [
    {
     "name": "stdout",
     "output_type": "stream",
     "text": [
      "-> car  model: cat\n"
     ]
    },
    {
     "data": {
      "text/plain": [
       "tensor(0.7995, grad_fn=<NllLossBackward>)"
      ]
     },
     "execution_count": 24,
     "metadata": {},
     "output_type": "execute_result"
    }
   ],
   "source": [
    "img, label = data_set[20]\n",
    "\n",
    "out = model(img.view(-1).unsqueeze(0))\n",
    "\n",
    "_, index = torch.max(out, dim=1)\n",
    "\n",
    "print('->',class_names[label],' model:',class_names[index])\n",
    "\n",
    "loss(out, torch.tensor([label]))"
   ]
  },
  {
   "cell_type": "code",
   "execution_count": 25,
   "metadata": {},
   "outputs": [],
   "source": [
    "model = nn.Sequential(\n",
    "            nn.Linear(3072, 512),\n",
    "            nn.Tanh(),\n",
    "            nn.Linear(512, 2),\n",
    "            nn.LogSoftmax(dim=1))"
   ]
  },
  {
   "cell_type": "code",
   "execution_count": 26,
   "metadata": {},
   "outputs": [
    {
     "name": "stdout",
     "output_type": "stream",
     "text": [
      "Epoch: 0, Loss: 0.146720\n",
      "Epoch: 1, Loss: 0.130553\n",
      "Epoch: 2, Loss: 0.067765\n",
      "Epoch: 3, Loss: 0.032119\n",
      "Epoch: 4, Loss: 0.849449\n"
     ]
    }
   ],
   "source": [
    "learning_rate = 0.01\n",
    "\n",
    "optimizer = optim.SGD(model.parameters(), lr=learning_rate)\n",
    "\n",
    "lossFunction = nn.NLLLoss()\n",
    "\n",
    "n_epochs = 5 #100\n",
    "\n",
    "for epoch in range(n_epochs):\n",
    "    for img, label in data_set:\n",
    "        out = model(img.view(-1).unsqueeze(0))\n",
    "        loss = lossFunction(out, torch.tensor([label]))\n",
    "                \n",
    "        optimizer.zero_grad()\n",
    "        loss.backward()\n",
    "        optimizer.step()\n",
    "\n",
    "    print(\"Epoch: %d, Loss: %f\" % (epoch, float(loss)))"
   ]
  },
  {
   "cell_type": "code",
   "execution_count": 27,
   "metadata": {},
   "outputs": [
    {
     "name": "stdout",
     "output_type": "stream",
     "text": [
      "Epoch: 0, Loss: 0.424034\n",
      "Epoch: 1, Loss: 0.423369\n",
      "Epoch: 2, Loss: 0.398030\n",
      "Epoch: 3, Loss: 0.179389\n",
      "Epoch: 4, Loss: 0.344184\n",
      "Epoch: 5, Loss: 0.216555\n",
      "Epoch: 6, Loss: 0.208298\n",
      "Epoch: 7, Loss: 0.190585\n",
      "Epoch: 8, Loss: 0.107092\n",
      "Epoch: 9, Loss: 0.589730\n",
      "Epoch: 10, Loss: 0.219613\n",
      "Epoch: 11, Loss: 0.088010\n",
      "Epoch: 12, Loss: 0.067008\n",
      "Epoch: 13, Loss: 0.245408\n",
      "Epoch: 14, Loss: 0.133908\n",
      "Epoch: 15, Loss: 0.473805\n",
      "Epoch: 16, Loss: 0.117684\n",
      "Epoch: 17, Loss: 0.114767\n",
      "Epoch: 18, Loss: 0.090241\n",
      "Epoch: 19, Loss: 0.050251\n",
      "Epoch: 20, Loss: 0.087458\n",
      "Epoch: 21, Loss: 0.058380\n",
      "Epoch: 22, Loss: 0.045406\n",
      "Epoch: 23, Loss: 0.036954\n",
      "Epoch: 24, Loss: 0.081879\n",
      "Epoch: 25, Loss: 0.029557\n",
      "Epoch: 26, Loss: 0.029894\n",
      "Epoch: 27, Loss: 0.005451\n",
      "Epoch: 28, Loss: 0.153108\n",
      "Epoch: 29, Loss: 0.032805\n",
      "Epoch: 30, Loss: 0.016022\n",
      "Epoch: 31, Loss: 0.011455\n",
      "Epoch: 32, Loss: 0.020612\n",
      "Epoch: 33, Loss: 0.022983\n",
      "Epoch: 34, Loss: 0.005734\n",
      "Epoch: 35, Loss: 0.013293\n",
      "Epoch: 36, Loss: 0.010042\n",
      "Epoch: 37, Loss: 0.006027\n",
      "Epoch: 38, Loss: 0.010601\n",
      "Epoch: 39, Loss: 0.050475\n",
      "Epoch: 40, Loss: 0.007728\n",
      "Epoch: 41, Loss: 0.017683\n",
      "Epoch: 42, Loss: 0.007472\n",
      "Epoch: 43, Loss: 0.008826\n",
      "Epoch: 44, Loss: 0.002780\n",
      "Epoch: 45, Loss: 0.015000\n",
      "Epoch: 46, Loss: 0.011701\n",
      "Epoch: 47, Loss: 0.004293\n",
      "Epoch: 48, Loss: 0.007743\n",
      "Epoch: 49, Loss: 0.007374\n",
      "Epoch: 50, Loss: 0.005382\n",
      "Epoch: 51, Loss: 0.004895\n",
      "Epoch: 52, Loss: 0.007278\n",
      "Epoch: 53, Loss: 0.004803\n",
      "Epoch: 54, Loss: 0.001930\n",
      "Epoch: 55, Loss: 0.003287\n",
      "Epoch: 56, Loss: 0.004806\n",
      "Epoch: 57, Loss: 0.008290\n",
      "Epoch: 58, Loss: 0.006004\n",
      "Epoch: 59, Loss: 0.009060\n",
      "Epoch: 60, Loss: 0.004934\n",
      "Epoch: 61, Loss: 0.004552\n",
      "Epoch: 62, Loss: 0.004780\n",
      "Epoch: 63, Loss: 0.006511\n",
      "Epoch: 64, Loss: 0.006188\n",
      "Epoch: 65, Loss: 0.003315\n",
      "Epoch: 66, Loss: 0.005947\n",
      "Epoch: 67, Loss: 0.003797\n",
      "Epoch: 68, Loss: 0.002124\n",
      "Epoch: 69, Loss: 0.003564\n",
      "Epoch: 70, Loss: 0.005783\n",
      "Epoch: 71, Loss: 0.004111\n",
      "Epoch: 72, Loss: 0.004974\n",
      "Epoch: 73, Loss: 0.007769\n",
      "Epoch: 74, Loss: 0.003793\n",
      "Epoch: 75, Loss: 0.005787\n",
      "Epoch: 76, Loss: 0.002090\n",
      "Epoch: 77, Loss: 0.002453\n",
      "Epoch: 78, Loss: 0.003190\n",
      "Epoch: 79, Loss: 0.002620\n",
      "Epoch: 80, Loss: 0.002931\n",
      "Epoch: 81, Loss: 0.003126\n",
      "Epoch: 82, Loss: 0.001216\n",
      "Epoch: 83, Loss: 0.002973\n",
      "Epoch: 84, Loss: 0.004081\n",
      "Epoch: 85, Loss: 0.003296\n",
      "Epoch: 86, Loss: 0.001943\n",
      "Epoch: 87, Loss: 0.002173\n",
      "Epoch: 88, Loss: 0.001545\n",
      "Epoch: 89, Loss: 0.003005\n",
      "Epoch: 90, Loss: 0.002943\n",
      "Epoch: 91, Loss: 0.001876\n",
      "Epoch: 92, Loss: 0.001307\n",
      "Epoch: 93, Loss: 0.005103\n",
      "Epoch: 94, Loss: 0.000751\n",
      "Epoch: 95, Loss: 0.004780\n",
      "Epoch: 96, Loss: 0.002635\n",
      "Epoch: 97, Loss: 0.001324\n",
      "Epoch: 98, Loss: 0.001939\n",
      "Epoch: 99, Loss: 0.001531\n"
     ]
    }
   ],
   "source": [
    "train_loader = torch.utils.data.DataLoader(data_set, batch_size=64, shuffle=True)\n",
    "\n",
    "model = nn.Sequential(\n",
    "            nn.Linear(3072, 512),\n",
    "            nn.Tanh(),\n",
    "            nn.Linear(512, 2),\n",
    "            nn.LogSoftmax(dim=1))\n",
    "\n",
    "\n",
    "optimizer = optim.SGD(model.parameters(), lr=0.02)\n",
    "\n",
    "loss_function = nn.NLLLoss()\n",
    "\n",
    "n_epochs = 100\n",
    "\n",
    "for epoch in range(n_epochs):\n",
    "    for imgs, labels in train_loader:\n",
    "        outputs = model(imgs.view(imgs.shape[0], -1))\n",
    "        loss = loss_function(outputs, labels)\n",
    "\n",
    "        optimizer.zero_grad()\n",
    "        loss.backward()\n",
    "        optimizer.step()\n",
    "\n",
    "    print(\"Epoch: %d, Loss: %f\" % (epoch, float(loss)))"
   ]
  },
  {
   "cell_type": "code",
   "execution_count": 28,
   "metadata": {},
   "outputs": [
    {
     "name": "stdout",
     "output_type": "stream",
     "text": [
      "Accuracy: 0.866500\n"
     ]
    }
   ],
   "source": [
    "val_loader = torch.utils.data.DataLoader(validation_set, batch_size=64, shuffle=False)\n",
    "\n",
    "correct = 0\n",
    "total = 0\n",
    "\n",
    "with torch.no_grad():\n",
    "    for imgs, labels in val_loader:\n",
    "        outputs = model(imgs.view(imgs.shape[0], -1))\n",
    "        _, predicted = torch.max(outputs, dim=1)\n",
    "        total += labels.shape[0]\n",
    "\n",
    "        correct += int((predicted == labels).sum())\n",
    "      \n",
    "print(\"Accuracy: %f\" % (correct / total))"
   ]
  },
  {
   "cell_type": "code",
   "execution_count": 29,
   "metadata": {},
   "outputs": [
    {
     "name": "stdout",
     "output_type": "stream",
     "text": [
      "->:  car  model: car\n"
     ]
    },
    {
     "name": "stderr",
     "output_type": "stream",
     "text": [
      "Clipping input data to the valid range for imshow with RGB data ([0..1] for floats or [0..255] for integers).\n"
     ]
    },
    {
     "data": {
      "image/png": "[encoded data removed]",
      "text/plain": [
       "<Figure size 432x288 with 1 Axes>"
      ]
     },
     "metadata": {
      "needs_background": "light"
     },
     "output_type": "display_data"
    }
   ],
   "source": [
    "img, label = validation_set[20]\n",
    "out = model(img.view(-1).unsqueeze(0))\n",
    "_, index = torch.max(out, dim=1)\n",
    "\n",
    "print('->: ',class_names[label],' model:',class_names[index])\n",
    "plt.imshow(img.permute(1, 2, 0))\n",
    "plt.show()"
   ]
  },
  {
   "cell_type": "code",
   "execution_count": 30,
   "metadata": {},
   "outputs": [
    {
     "name": "stdout",
     "output_type": "stream",
     "text": [
      "Epoch: 0, Loss: 0.366824\n",
      "Epoch: 1, Loss: 0.379524\n",
      "Epoch: 2, Loss: 0.648691\n",
      "Epoch: 3, Loss: 0.261646\n",
      "Epoch: 4, Loss: 0.392347\n",
      "Epoch: 5, Loss: 0.478683\n",
      "Epoch: 6, Loss: 0.411337\n",
      "Epoch: 7, Loss: 0.453208\n",
      "Epoch: 8, Loss: 0.324410\n",
      "Epoch: 9, Loss: 0.321164\n",
      "Epoch: 10, Loss: 0.294038\n",
      "Epoch: 11, Loss: 0.270975\n",
      "Epoch: 12, Loss: 0.343397\n",
      "Epoch: 13, Loss: 0.255763\n",
      "Epoch: 14, Loss: 0.130523\n",
      "Epoch: 15, Loss: 0.117398\n",
      "Epoch: 16, Loss: 0.070025\n",
      "Epoch: 17, Loss: 0.329841\n",
      "Epoch: 18, Loss: 0.064358\n",
      "Epoch: 19, Loss: 0.108429\n",
      "Epoch: 20, Loss: 0.198401\n",
      "Epoch: 21, Loss: 0.323437\n",
      "Epoch: 22, Loss: 0.598127\n",
      "Epoch: 23, Loss: 0.062932\n",
      "Epoch: 24, Loss: 0.077243\n",
      "Epoch: 25, Loss: 0.108866\n",
      "Epoch: 26, Loss: 0.826641\n",
      "Epoch: 27, Loss: 0.052683\n",
      "Epoch: 28, Loss: 0.056602\n",
      "Epoch: 29, Loss: 0.012881\n",
      "Epoch: 30, Loss: 0.113612\n",
      "Epoch: 31, Loss: 0.027615\n",
      "Epoch: 32, Loss: 0.045521\n",
      "Epoch: 33, Loss: 0.277574\n",
      "Epoch: 34, Loss: 0.021916\n",
      "Epoch: 35, Loss: 0.007515\n",
      "Epoch: 36, Loss: 0.007727\n",
      "Epoch: 37, Loss: 0.008846\n",
      "Epoch: 38, Loss: 0.049929\n",
      "Epoch: 39, Loss: 0.004432\n",
      "Epoch: 40, Loss: 0.009237\n",
      "Epoch: 41, Loss: 0.004993\n",
      "Epoch: 42, Loss: 0.009930\n",
      "Epoch: 43, Loss: 0.002070\n",
      "Epoch: 44, Loss: 0.003025\n",
      "Epoch: 45, Loss: 0.000858\n",
      "Epoch: 46, Loss: 0.002316\n",
      "Epoch: 47, Loss: 0.003102\n",
      "Epoch: 48, Loss: 0.003197\n",
      "Epoch: 49, Loss: 0.000285\n",
      "Epoch: 50, Loss: 0.001625\n",
      "Epoch: 51, Loss: 0.004586\n",
      "Epoch: 52, Loss: 0.001054\n",
      "Epoch: 53, Loss: 0.001398\n",
      "Epoch: 54, Loss: 0.001536\n",
      "Epoch: 55, Loss: 0.002397\n",
      "Epoch: 56, Loss: 0.001093\n",
      "Epoch: 57, Loss: 0.004136\n",
      "Epoch: 58, Loss: 0.000549\n",
      "Epoch: 59, Loss: 0.002928\n",
      "Epoch: 60, Loss: 0.000581\n",
      "Epoch: 61, Loss: 0.000762\n",
      "Epoch: 62, Loss: 0.000565\n",
      "Epoch: 63, Loss: 0.000869\n",
      "Epoch: 64, Loss: 0.000633\n",
      "Epoch: 65, Loss: 0.001447\n",
      "Epoch: 66, Loss: 0.000777\n",
      "Epoch: 67, Loss: 0.000879\n",
      "Epoch: 68, Loss: 0.001722\n",
      "Epoch: 69, Loss: 0.000931\n",
      "Epoch: 70, Loss: 0.001390\n",
      "Epoch: 71, Loss: 0.000939\n",
      "Epoch: 72, Loss: 0.000538\n",
      "Epoch: 73, Loss: 0.000880\n",
      "Epoch: 74, Loss: 0.001335\n",
      "Epoch: 75, Loss: 0.000396\n",
      "Epoch: 76, Loss: 0.000671\n",
      "Epoch: 77, Loss: 0.000757\n",
      "Epoch: 78, Loss: 0.000297\n",
      "Epoch: 79, Loss: 0.000156\n",
      "Epoch: 80, Loss: 0.000097\n",
      "Epoch: 81, Loss: 0.001033\n",
      "Epoch: 82, Loss: 0.001521\n",
      "Epoch: 83, Loss: 0.000788\n",
      "Epoch: 84, Loss: 0.000613\n",
      "Epoch: 85, Loss: 0.000799\n",
      "Epoch: 86, Loss: 0.000474\n",
      "Epoch: 87, Loss: 0.000113\n",
      "Epoch: 88, Loss: 0.000418\n",
      "Epoch: 89, Loss: 0.001927\n",
      "Epoch: 90, Loss: 0.000082\n",
      "Epoch: 91, Loss: 0.000283\n",
      "Epoch: 92, Loss: 0.000381\n",
      "Epoch: 93, Loss: 0.000489\n",
      "Epoch: 94, Loss: 0.000427\n",
      "Epoch: 95, Loss: 0.000824\n",
      "Epoch: 96, Loss: 0.000280\n",
      "Epoch: 97, Loss: 0.000346\n",
      "Epoch: 98, Loss: 0.000157\n",
      "Epoch: 99, Loss: 0.000299\n"
     ]
    }
   ],
   "source": [
    "train_loader = torch.utils.data.DataLoader(data_set, batch_size=64, shuffle=True)\n",
    "\n",
    "model = nn.Sequential(\n",
    "            nn.Linear(3072, 1024),\n",
    "            nn.Tanh(),\n",
    "            nn.Linear(1024, 512),\n",
    "            nn.Tanh(),\n",
    "            nn.Linear(512, 128),\n",
    "            nn.Tanh(),\n",
    "            nn.Linear(128, 2))\n",
    "\n",
    "learning_rate = 0.01\n",
    "\n",
    "optimizer = optim.SGD(model.parameters(), lr=learning_rate)\n",
    "\n",
    "loss_fn = nn.CrossEntropyLoss()\n",
    "\n",
    "n_epochs = 100\n",
    "\n",
    "for epoch in range(n_epochs):\n",
    "    for imgs, labels in train_loader:\n",
    "        outputs = model(imgs.view(imgs.shape[0], -1))\n",
    "        loss = loss_fn(outputs, labels)\n",
    "\n",
    "        optimizer.zero_grad()\n",
    "        loss.backward()\n",
    "        optimizer.step()\n",
    "\n",
    "    print(\"Epoch: %d, Loss: %f\" % (epoch, float(loss)))"
   ]
  },
  {
   "cell_type": "code",
   "execution_count": 31,
   "metadata": {},
   "outputs": [
    {
     "name": "stdout",
     "output_type": "stream",
     "text": [
      "Accuracy: 0.860000\n"
     ]
    }
   ],
   "source": [
    "val_loader = torch.utils.data.DataLoader(validation_set, batch_size=64, shuffle=False)\n",
    "\n",
    "correct = 0\n",
    "total = 0\n",
    "\n",
    "with torch.no_grad():\n",
    "    for imgs, labels in val_loader:\n",
    "        outputs = model(imgs.view(imgs.shape[0], -1))\n",
    "        _, predicted = torch.max(outputs, dim=1)\n",
    "        total += labels.shape[0]\n",
    "        correct += int((predicted == labels).sum())\n",
    "        \n",
    "print(\"Accuracy: %f\" % (correct / total))"
   ]
  },
  {
   "cell_type": "code",
   "execution_count": 32,
   "metadata": {},
   "outputs": [
    {
     "name": "stdout",
     "output_type": "stream",
     "text": [
      "Accuracy: 1.000000\n"
     ]
    }
   ],
   "source": [
    "train_loader = torch.utils.data.DataLoader(data_set, batch_size=64, shuffle=False)\n",
    "\n",
    "correct = 0\n",
    "total = 0\n",
    "\n",
    "with torch.no_grad():\n",
    "    for imgs, labels in train_loader:\n",
    "        outputs = model(imgs.view(imgs.shape[0], -1))\n",
    "        _, predicted = torch.max(outputs, dim=1)\n",
    "        total += labels.shape[0]\n",
    "        correct += int((predicted == labels).sum())\n",
    "        \n",
    "print(\"Accuracy: %f\" % (correct / total))"
   ]
  },
  {
   "cell_type": "code",
   "execution_count": 33,
   "metadata": {},
   "outputs": [
    {
     "name": "stdout",
     "output_type": "stream",
     "text": [
      "correct:  car  model: cat\n"
     ]
    },
    {
     "name": "stderr",
     "output_type": "stream",
     "text": [
      "Clipping input data to the valid range for imshow with RGB data ([0..1] for floats or [0..255] for integers).\n"
     ]
    },
    {
     "data": {
      "text/plain": [
       "<matplotlib.image.AxesImage at 0x1a55d520e88>"
      ]
     },
     "execution_count": 33,
     "metadata": {},
     "output_type": "execute_result"
    },
    {
     "data": {
      "image/png": "[encoded data removed]",
      "text/plain": [
       "<Figure size 432x288 with 1 Axes>"
      ]
     },
     "metadata": {
      "needs_background": "light"
     },
     "output_type": "display_data"
    }
   ],
   "source": [
    "img, label = validation_set[1]\n",
    "out = model(img.view(-1).unsqueeze(0))\n",
    "_, index = torch.max(out, dim=1)\n",
    "\n",
    "print('correct: ',class_names[label],' model:',class_names[index])\n",
    "plt.imshow(img.permute(1, 2, 0))"
   ]
  },
  {
   "cell_type": "code",
   "execution_count": 34,
   "metadata": {},
   "outputs": [
    {
     "data": {
      "text/plain": [
       "3737474"
      ]
     },
     "execution_count": 34,
     "metadata": {},
     "output_type": "execute_result"
    }
   ],
   "source": [
    "sum([p.numel() for p in model.parameters() if p.requires_grad == True])"
   ]
  },
  {
   "cell_type": "code",
   "execution_count": 35,
   "metadata": {},
   "outputs": [
    {
     "data": {
      "text/plain": [
       "1573376"
      ]
     },
     "execution_count": 35,
     "metadata": {},
     "output_type": "execute_result"
    }
   ],
   "source": [
    "sum([p.numel() for p in nn.Linear(3072, 512).parameters()])"
   ]
  },
  {
   "cell_type": "code",
   "execution_count": 36,
   "metadata": {},
   "outputs": [
    {
     "data": {
      "text/plain": [
       "3146752"
      ]
     },
     "execution_count": 36,
     "metadata": {},
     "output_type": "execute_result"
    }
   ],
   "source": [
    "sum([p.numel() for p in nn.Linear(3072, 1024).parameters()])"
   ]
  },
  {
   "cell_type": "code",
   "execution_count": 37,
   "metadata": {},
   "outputs": [
    {
     "name": "stdout",
     "output_type": "stream",
     "text": [
      "correct: car   model: cat\n"
     ]
    },
    {
     "name": "stderr",
     "output_type": "stream",
     "text": [
      "Clipping input data to the valid range for imshow with RGB data ([0..1] for floats or [0..255] for integers).\n"
     ]
    },
    {
     "data": {
      "text/plain": [
       "<matplotlib.image.AxesImage at 0x1a505695388>"
      ]
     },
     "execution_count": 37,
     "metadata": {},
     "output_type": "execute_result"
    },
    {
     "data": {
      "image/png": "[encoded data removed]",
      "text/plain": [
       "<Figure size 432x288 with 1 Axes>"
      ]
     },
     "metadata": {
      "needs_background": "light"
     },
     "output_type": "display_data"
    }
   ],
   "source": [
    "image = request.urlretrieve('https://i.pinimg.com/originals/43/bc/47/43bc47066bb8b2fa4fe7cc8e82cc3714.jpg','test,jpg')\n",
    "                            \n",
    "img = Image.open(image[0])\n",
    "\n",
    "preprocess = transforms.Compose([\n",
    "        transforms.Resize(48),\n",
    "        transforms.CenterCrop(32),\n",
    "        transforms.ToTensor(),\n",
    "        transforms.Normalize(\n",
    "            mean=[0.4915, 0.4823, 0.4468],\n",
    "            std=[0.2470, 0.2435, 0.2616]\n",
    "        )])\n",
    "\n",
    "img_t = preprocess(img)\n",
    "out = model(img_t.view(-1).unsqueeze(0))\n",
    "_, index = torch.max(out, dim=1)\n",
    "print('correct: car ',' model:',class_names[index])\n",
    "plt.imshow(img_t.permute(1, 2, 0))"
   ]
  },
  {
   "cell_type": "code",
   "execution_count": null,
   "metadata": {},
   "outputs": [],
   "source": []
  }
 ],
 "metadata": {
  "kernelspec": {
   "display_name": "Python 3",
   "language": "python",
   "name": "python3"
  },
  "language_info": {
   "codemirror_mode": {
    "name": "ipython",
    "version": 3
   },
   "file_extension": ".py",
   "mimetype": "text/x-python",
   "name": "python",
   "nbconvert_exporter": "python",
   "pygments_lexer": "ipython3",
   "version": "3.7.4"
  }
 },
 "nbformat": 4,
 "nbformat_minor": 2
}
